{
 "cells": [
  {
   "cell_type": "code",
   "execution_count": 2,
   "metadata": {},
   "outputs": [],
   "source": [
    "import tensorflow as tf\n",
    "import numpy as np\n",
    "import os\n",
    "import matplotlib.pyplot as plt\n",
    "from PIL import Image\n",
    "\n",
    "import cv2\n",
    "from matplotlib import pyplot as plt"
   ]
  },
  {
   "cell_type": "code",
   "execution_count": 3,
   "metadata": {},
   "outputs": [],
   "source": [
    "# get mnist daat and cache it \n",
    "def get_mnist_data():\n",
    "    # get mnist data \n",
    "    path = 'mnist.npz'\n",
    "\n",
    "    # get data - this will be cached \n",
    "    mnist = tf.keras.datasets.mnist\n",
    "\n",
    "    (x_train, y_train),(x_test, y_test) = mnist.load_data(path=path)\n",
    "    return (x_train, y_train, x_test, y_test)"
   ]
  },
  {
   "cell_type": "code",
   "execution_count": 4,
   "metadata": {},
   "outputs": [],
   "source": [
    "# train model with mnist data \n",
    "def train_model(x_train, y_train, x_test, y_test):\n",
    "    # set up TF model and train \n",
    "    # callback \n",
    "    class myCallback(tf.keras.callbacks.Callback):\n",
    "        def on_epoch_end(self, epoch, logs={}):\n",
    "            print(logs)\n",
    "            if(logs.get('accuracy') > 0.99):\n",
    "                print(\"\\nReached 99% accuracy so cancelling training!\")\n",
    "                self.model.stop_training = True\n",
    "                                \n",
    "    callbacks = myCallback()\n",
    "\n",
    "    # normalise coverting it into a grayscale image\n",
    "    x_train, x_test = x_train/255.0, x_test/255.0\n",
    "\n",
    "    # create model \n",
    "    model = tf.keras.models.Sequential([\n",
    "        tf.keras.layers.Flatten(input_shape=(28, 28)),\n",
    "        tf.keras.layers.Dense(512, activation=tf.nn.relu),\n",
    "        tf.keras.layers.Dense(10, activation=tf.nn.softmax)\n",
    "    ])\n",
    "\n",
    "    model.compile(optimizer='adam',\n",
    "                loss='sparse_categorical_crossentropy',\n",
    "                metrics=['accuracy'])\n",
    "    print(model.summary())\n",
    "\n",
    "    # fit model\n",
    "    history = model.fit(x_train, y_train, epochs=10, callbacks=[callbacks])\n",
    "    # stats \n",
    "    print(history.epoch, history.history['accuracy'][-1])\n",
    "    return model"
   ]
  },
  {
   "cell_type": "code",
   "execution_count": 5,
   "metadata": {},
   "outputs": [],
   "source": [
    "# predict digit using image passed in \n",
    "def predict(model, img):\n",
    "    imgs = np.array([img])\n",
    "    res = model.predict(imgs)\n",
    "    index = np.argmax(res)\n",
    "    #print(index)\n",
    "    return str(index)"
   ]
  },
  {
   "cell_type": "code",
   "execution_count": 6,
   "metadata": {},
   "outputs": [],
   "source": [
    "startInference = False\n",
    "def ifClicked(event, x, y, flags, params):\n",
    "    global startInference\n",
    "    if event == cv2.EVENT_LBUTTONDOWN:\n",
    "        startInference = not startInference\n",
    "\n",
    "# threshold slider handler \n",
    "threshold = 100\n",
    "def on_threshold(x):\n",
    "    global threshold\n",
    "    threshold = x\n"
   ]
  },
  {
   "cell_type": "code",
   "execution_count": 7,
   "metadata": {},
   "outputs": [],
   "source": [
    "# the opencv display loop \n",
    "def start_cv(model):\n",
    "    global threshold\n",
    "    cap = cv2.VideoCapture(0)\n",
    "    frame = cv2.namedWindow('background')\n",
    "    cv2.setMouseCallback('background', ifClicked)\n",
    "    cv2.createTrackbar('threshold', 'background', 150, 255, on_threshold)\n",
    "    background = np.zeros((480, 640), np.uint8)\n",
    "    frameCount = 0\n",
    "\n",
    "    while True:\n",
    "        ret, frame = cap.read()\n",
    "\n",
    "        if (startInference):\n",
    "            \n",
    "            # frame counter for showing text \n",
    "            frameCount += 1\n",
    "\n",
    "            # black outer frame\n",
    "            frame[0:480, 0:80] = 0\n",
    "            frame[0:480, 560:640] = 0\n",
    "            grayFrame = cv2.cvtColor(frame, cv2.COLOR_BGR2GRAY)\n",
    "\n",
    "            # apply threshold\n",
    "            _, thr = cv2.threshold(grayFrame, threshold, 255, cv2.THRESH_BINARY_INV)\n",
    "           \n",
    "\n",
    "            # get central image \n",
    "            resizedFrame = thr[240-75:240+75, 320-75:320+75]\n",
    "            background[240-75:240+75, 320-75:320+75] = resizedFrame\n",
    "\n",
    "            # resize for inference \n",
    "            iconImg = cv2.resize(resizedFrame, (28, 28))\n",
    "            \n",
    "            # pass to model predictor \n",
    "            res = predict(model, iconImg)\n",
    "\n",
    "            # clear background \n",
    "            if frameCount == 5:\n",
    "                background[0:480, 0:80] = 0\n",
    "                frameCount = 0\n",
    "\n",
    "            # show text \n",
    "            cv2.putText(background, res, (10, 60), cv2.FONT_HERSHEY_SIMPLEX, 2, (255, 255, 255), 3)\n",
    "            cv2.rectangle(background, (320-80, 240-80), (320+80, 240+80), (255, 255, 255), thickness=3)\n",
    "            \n",
    "            # display frame \n",
    "            cv2.imshow('background', background)\n",
    "        else:\n",
    "            # display normal video \n",
    "            cv2.imshow('background', frame)\n",
    "\n",
    "        # cv2.imshow('resized', resizedFrame)\n",
    "        if cv2.waitKey(1) & 0xff == ord('q'):\n",
    "            break\n",
    "\n",
    "    cap.release()\n",
    "    cv2.destroyAllWindows()"
   ]
  },
  {
   "cell_type": "code",
   "execution_count": 8,
   "metadata": {},
   "outputs": [],
   "source": [
    "# main function \n",
    "def main():\n",
    "    # if a model is already saved just load it - else build it \n",
    "    model = None\n",
    "    try:\n",
    "        model = tf.keras.models.load_model('model.sav')\n",
    "        print('loaded saved model.')\n",
    "        print(model.summary())\n",
    "    except:\n",
    "        # load and train data \n",
    "        print(\"getting mnist data...\")\n",
    "        (x_train, y_train, x_test, y_test) = get_mnist_data()\n",
    "        print(\"training model...\")\n",
    "        model = train_model(x_train, y_train, x_test, y_test)\n",
    "        print(\"saving model...\")\n",
    "        model.save('model.sav')\n",
    "    \n",
    "    print(\"starting cv...\")\n",
    "\n",
    "    # show opencv window\n",
    "    start_cv(model)"
   ]
  },
  {
   "cell_type": "code",
   "execution_count": null,
   "metadata": {},
   "outputs": [
    {
     "name": "stdout",
     "output_type": "stream",
     "text": [
      "loaded saved model.\n",
      "Model: \"sequential\"\n",
      "_________________________________________________________________\n",
      "Layer (type)                 Output Shape              Param #   \n",
      "=================================================================\n",
      "flatten (Flatten)            (None, 784)               0         \n",
      "_________________________________________________________________\n",
      "dense (Dense)                (None, 512)               401920    \n",
      "_________________________________________________________________\n",
      "dense_1 (Dense)              (None, 10)                5130      \n",
      "=================================================================\n",
      "Total params: 407,050\n",
      "Trainable params: 407,050\n",
      "Non-trainable params: 0\n",
      "_________________________________________________________________\n",
      "None\n",
      "starting cv...\n"
     ]
    }
   ],
   "source": [
    "main()"
   ]
  },
  {
   "cell_type": "code",
   "execution_count": null,
   "metadata": {},
   "outputs": [],
   "source": []
  }
 ],
 "metadata": {
  "kernelspec": {
   "display_name": "Python 3",
   "language": "python",
   "name": "python3"
  },
  "language_info": {
   "codemirror_mode": {
    "name": "ipython",
    "version": 3
   },
   "file_extension": ".py",
   "mimetype": "text/x-python",
   "name": "python",
   "nbconvert_exporter": "python",
   "pygments_lexer": "ipython3",
   "version": "3.8.5"
  }
 },
 "nbformat": 4,
 "nbformat_minor": 4
}
