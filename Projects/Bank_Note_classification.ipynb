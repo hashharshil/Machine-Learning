{
 "cells": [
  {
   "cell_type": "code",
   "execution_count": 1,
   "metadata": {},
   "outputs": [],
   "source": [
    "#Importing all necessary libraries\n",
    "import numpy as np\n",
    "import pandas as pd\n",
    "import tensorflow as tf\n",
    "from tensorflow import keras  \n",
    "from tensorflow.keras import Sequential \n",
    "from tensorflow.keras import layers\n",
    "from tensorflow.keras.layers import Dense\n",
    "import matplotlib.pyplot as plt"
   ]
  },
  {
   "cell_type": "code",
   "execution_count": 2,
   "metadata": {},
   "outputs": [],
   "source": [
    "# reading training and testing data from github link of csv file\n",
    "bank_note_data = pd.read_csv(\"https://raw.githubusercontent.com/dphi-official/Datasets/master/bank_note_data/training_set_label.csv\")\n",
    "test_data = pd.read_csv(\"https://raw.githubusercontent.com/dphi-official/Datasets/master/bank_note_data/testing_set_label.csv\")"
   ]
  },
  {
   "cell_type": "code",
   "execution_count": 3,
   "metadata": {},
   "outputs": [
    {
     "data": {
      "text/html": [
       "<div>\n",
       "<style scoped>\n",
       "    .dataframe tbody tr th:only-of-type {\n",
       "        vertical-align: middle;\n",
       "    }\n",
       "\n",
       "    .dataframe tbody tr th {\n",
       "        vertical-align: top;\n",
       "    }\n",
       "\n",
       "    .dataframe thead th {\n",
       "        text-align: right;\n",
       "    }\n",
       "</style>\n",
       "<table border=\"1\" class=\"dataframe\">\n",
       "  <thead>\n",
       "    <tr style=\"text-align: right;\">\n",
       "      <th></th>\n",
       "      <th>VWTI</th>\n",
       "      <th>SWTI</th>\n",
       "      <th>CWTI</th>\n",
       "      <th>EI</th>\n",
       "      <th>Class</th>\n",
       "    </tr>\n",
       "  </thead>\n",
       "  <tbody>\n",
       "    <tr>\n",
       "      <th>0</th>\n",
       "      <td>2.2634</td>\n",
       "      <td>-4.4862</td>\n",
       "      <td>3.6558</td>\n",
       "      <td>-0.612510</td>\n",
       "      <td>0</td>\n",
       "    </tr>\n",
       "    <tr>\n",
       "      <th>1</th>\n",
       "      <td>3.2718</td>\n",
       "      <td>1.7837</td>\n",
       "      <td>2.1161</td>\n",
       "      <td>0.613340</td>\n",
       "      <td>0</td>\n",
       "    </tr>\n",
       "    <tr>\n",
       "      <th>2</th>\n",
       "      <td>-3.9411</td>\n",
       "      <td>-12.8792</td>\n",
       "      <td>13.0597</td>\n",
       "      <td>-3.312500</td>\n",
       "      <td>1</td>\n",
       "    </tr>\n",
       "    <tr>\n",
       "      <th>3</th>\n",
       "      <td>0.5195</td>\n",
       "      <td>-3.2633</td>\n",
       "      <td>3.0895</td>\n",
       "      <td>-0.984900</td>\n",
       "      <td>0</td>\n",
       "    </tr>\n",
       "    <tr>\n",
       "      <th>4</th>\n",
       "      <td>2.5698</td>\n",
       "      <td>-4.4076</td>\n",
       "      <td>5.9856</td>\n",
       "      <td>0.078002</td>\n",
       "      <td>0</td>\n",
       "    </tr>\n",
       "  </tbody>\n",
       "</table>\n",
       "</div>"
      ],
      "text/plain": [
       "     VWTI     SWTI     CWTI        EI  Class\n",
       "0  2.2634  -4.4862   3.6558 -0.612510      0\n",
       "1  3.2718   1.7837   2.1161  0.613340      0\n",
       "2 -3.9411 -12.8792  13.0597 -3.312500      1\n",
       "3  0.5195  -3.2633   3.0895 -0.984900      0\n",
       "4  2.5698  -4.4076   5.9856  0.078002      0"
      ]
     },
     "execution_count": 3,
     "metadata": {},
     "output_type": "execute_result"
    }
   ],
   "source": [
    "#Shhowing first five rows from this bank_note_data \n",
    "bank_note_data.head()"
   ]
  },
  {
   "cell_type": "code",
   "execution_count": 4,
   "metadata": {},
   "outputs": [
    {
     "name": "stdout",
     "output_type": "stream",
     "text": [
      "<class 'pandas.core.frame.DataFrame'>\n",
      "RangeIndex: 1096 entries, 0 to 1095\n",
      "Data columns (total 5 columns):\n",
      " #   Column  Non-Null Count  Dtype  \n",
      "---  ------  --------------  -----  \n",
      " 0   VWTI    1096 non-null   float64\n",
      " 1   SWTI    1096 non-null   float64\n",
      " 2   CWTI    1096 non-null   float64\n",
      " 3   EI      1096 non-null   float64\n",
      " 4   Class   1096 non-null   int64  \n",
      "dtypes: float64(4), int64(1)\n",
      "memory usage: 42.9 KB\n"
     ]
    }
   ],
   "source": [
    "# Check for null and other information\n",
    "bank_note_data.info()"
   ]
  },
  {
   "cell_type": "code",
   "execution_count": 5,
   "metadata": {},
   "outputs": [],
   "source": [
    "#creating X by droping target column\n",
    "X = bank_note_data.drop(\"Class\", axis=1)\n",
    "#creating y using target column\n",
    "y = bank_note_data.Class"
   ]
  },
  {
   "cell_type": "code",
   "execution_count": 6,
   "metadata": {},
   "outputs": [],
   "source": [
    "#Standardizing all the numerical column values in both training and testing data\n",
    "from sklearn.preprocessing import StandardScaler\n",
    "scaler = StandardScaler()\n",
    "\n",
    "X = pd.DataFrame(scaler.fit_transform(X), columns = X.columns)\n",
    "test_data = pd.DataFrame(scaler.fit_transform(test_data), columns = test_data.columns)"
   ]
  },
  {
   "cell_type": "code",
   "execution_count": 7,
   "metadata": {},
   "outputs": [],
   "source": [
    "#Splitting data into training and testing set, testing = 0.2\n",
    "from sklearn.model_selection import train_test_split\n",
    "X_train, X_test, y_train, y_test = train_test_split(X, y, test_size=0.2, random_state = 42)"
   ]
  },
  {
   "cell_type": "code",
   "execution_count": 8,
   "metadata": {},
   "outputs": [],
   "source": [
    "#Building the Sequential layer with one input, ine hidden and one output layer\n",
    "model = Sequential()\n",
    "model.add(Dense(8, activation='relu', input_shape=(X_train.shape[1],)))\n",
    "model.add(Dense(8, activation='relu'))\n",
    "model.add(Dense(1,activation='sigmoid'))"
   ]
  },
  {
   "cell_type": "code",
   "execution_count": 9,
   "metadata": {},
   "outputs": [],
   "source": [
    "#compile model with binary_cross_entropy loss and adam optimizer\n",
    "from tensorflow.keras.optimizers import Adam\n",
    "model.compile(loss='binary_crossentropy', optimizer= 'adam' , metrics=['accuracy'])"
   ]
  },
  {
   "cell_type": "code",
   "execution_count": 10,
   "metadata": {},
   "outputs": [
    {
     "name": "stdout",
     "output_type": "stream",
     "text": [
      "Epoch 1/50\n",
      "70/70 [==============================] - 0s 4ms/step - loss: 0.6892 - accuracy: 0.5557 - val_loss: 0.6550 - val_accuracy: 0.7159\n",
      "Epoch 2/50\n",
      "70/70 [==============================] - 0s 1ms/step - loss: 0.6314 - accuracy: 0.7657 - val_loss: 0.5866 - val_accuracy: 0.8409\n",
      "Epoch 3/50\n",
      "70/70 [==============================] - 0s 1ms/step - loss: 0.5519 - accuracy: 0.8814 - val_loss: 0.4988 - val_accuracy: 0.9375\n",
      "Epoch 4/50\n",
      "70/70 [==============================] - 0s 1ms/step - loss: 0.4538 - accuracy: 0.9371 - val_loss: 0.3869 - val_accuracy: 0.9773\n",
      "Epoch 5/50\n",
      "70/70 [==============================] - 0s 1ms/step - loss: 0.3400 - accuracy: 0.9571 - val_loss: 0.2679 - val_accuracy: 0.9830\n",
      "Epoch 6/50\n",
      "70/70 [==============================] - 0s 1ms/step - loss: 0.2336 - accuracy: 0.9686 - val_loss: 0.1714 - val_accuracy: 0.9830\n",
      "Epoch 7/50\n",
      "70/70 [==============================] - 0s 1ms/step - loss: 0.1592 - accuracy: 0.9771 - val_loss: 0.1139 - val_accuracy: 0.9943\n",
      "Epoch 8/50\n",
      "70/70 [==============================] - 0s 1ms/step - loss: 0.1148 - accuracy: 0.9771 - val_loss: 0.0814 - val_accuracy: 0.9943\n",
      "Epoch 9/50\n",
      "70/70 [==============================] - 0s 2ms/step - loss: 0.0883 - accuracy: 0.9800 - val_loss: 0.0632 - val_accuracy: 0.9943\n",
      "Epoch 10/50\n",
      "70/70 [==============================] - 0s 1ms/step - loss: 0.0719 - accuracy: 0.9814 - val_loss: 0.0513 - val_accuracy: 0.9943\n",
      "Epoch 11/50\n",
      "70/70 [==============================] - 0s 1ms/step - loss: 0.0606 - accuracy: 0.9857 - val_loss: 0.0429 - val_accuracy: 0.9943\n",
      "Epoch 12/50\n",
      "70/70 [==============================] - 0s 1ms/step - loss: 0.0527 - accuracy: 0.9843 - val_loss: 0.0370 - val_accuracy: 0.9943\n",
      "Epoch 13/50\n",
      "70/70 [==============================] - 0s 1ms/step - loss: 0.0465 - accuracy: 0.9886 - val_loss: 0.0333 - val_accuracy: 0.9943\n",
      "Epoch 14/50\n",
      "70/70 [==============================] - 0s 1ms/step - loss: 0.0421 - accuracy: 0.9886 - val_loss: 0.0291 - val_accuracy: 0.9943\n",
      "Epoch 15/50\n",
      "70/70 [==============================] - 0s 1ms/step - loss: 0.0379 - accuracy: 0.9886 - val_loss: 0.0264 - val_accuracy: 0.9943\n",
      "Epoch 16/50\n",
      "70/70 [==============================] - 0s 972us/step - loss: 0.0352 - accuracy: 0.9886 - val_loss: 0.0249 - val_accuracy: 0.9943\n",
      "Epoch 17/50\n",
      "70/70 [==============================] - 0s 1ms/step - loss: 0.0321 - accuracy: 0.9886 - val_loss: 0.0224 - val_accuracy: 0.9943\n",
      "Epoch 18/50\n",
      "70/70 [==============================] - 0s 1ms/step - loss: 0.0297 - accuracy: 0.9886 - val_loss: 0.0211 - val_accuracy: 0.9943\n",
      "Epoch 19/50\n",
      "70/70 [==============================] - 0s 1ms/step - loss: 0.0275 - accuracy: 0.9929 - val_loss: 0.0198 - val_accuracy: 0.9943\n",
      "Epoch 20/50\n",
      "70/70 [==============================] - 0s 1ms/step - loss: 0.0255 - accuracy: 0.9929 - val_loss: 0.0182 - val_accuracy: 0.9943\n",
      "Epoch 21/50\n",
      "70/70 [==============================] - 0s 1ms/step - loss: 0.0239 - accuracy: 0.9943 - val_loss: 0.0174 - val_accuracy: 0.9943\n",
      "Epoch 22/50\n",
      "70/70 [==============================] - 0s 1ms/step - loss: 0.0224 - accuracy: 0.9943 - val_loss: 0.0165 - val_accuracy: 0.9943\n",
      "Epoch 23/50\n",
      "70/70 [==============================] - 0s 1ms/step - loss: 0.0212 - accuracy: 0.9943 - val_loss: 0.0151 - val_accuracy: 0.9943\n",
      "Epoch 24/50\n",
      "70/70 [==============================] - 0s 1ms/step - loss: 0.0198 - accuracy: 0.9929 - val_loss: 0.0142 - val_accuracy: 0.9943\n",
      "Epoch 25/50\n",
      "70/70 [==============================] - 0s 1ms/step - loss: 0.0187 - accuracy: 0.9943 - val_loss: 0.0136 - val_accuracy: 0.9943\n",
      "Epoch 26/50\n",
      "70/70 [==============================] - 0s 1ms/step - loss: 0.0176 - accuracy: 0.9929 - val_loss: 0.0125 - val_accuracy: 0.9943\n",
      "Epoch 27/50\n",
      "70/70 [==============================] - 0s 1ms/step - loss: 0.0168 - accuracy: 0.9929 - val_loss: 0.0119 - val_accuracy: 1.0000\n",
      "Epoch 28/50\n",
      "70/70 [==============================] - 0s 1ms/step - loss: 0.0159 - accuracy: 0.9957 - val_loss: 0.0115 - val_accuracy: 1.0000\n",
      "Epoch 29/50\n",
      "70/70 [==============================] - 0s 1ms/step - loss: 0.0150 - accuracy: 0.9957 - val_loss: 0.0108 - val_accuracy: 1.0000\n",
      "Epoch 30/50\n",
      "70/70 [==============================] - 0s 1ms/step - loss: 0.0139 - accuracy: 0.9957 - val_loss: 0.0100 - val_accuracy: 1.0000\n",
      "Epoch 31/50\n",
      "70/70 [==============================] - 0s 1ms/step - loss: 0.0134 - accuracy: 0.9986 - val_loss: 0.0095 - val_accuracy: 1.0000\n",
      "Epoch 32/50\n",
      "70/70 [==============================] - 0s 972us/step - loss: 0.0126 - accuracy: 0.9986 - val_loss: 0.0091 - val_accuracy: 1.0000\n",
      "Epoch 33/50\n",
      "70/70 [==============================] - 0s 972us/step - loss: 0.0118 - accuracy: 1.0000 - val_loss: 0.0086 - val_accuracy: 1.0000\n",
      "Epoch 34/50\n",
      "70/70 [==============================] - 0s 1ms/step - loss: 0.0114 - accuracy: 1.0000 - val_loss: 0.0081 - val_accuracy: 1.0000\n",
      "Epoch 35/50\n",
      "70/70 [==============================] - 0s 1ms/step - loss: 0.0106 - accuracy: 1.0000 - val_loss: 0.0077 - val_accuracy: 1.0000\n",
      "Epoch 36/50\n",
      "70/70 [==============================] - 0s 1ms/step - loss: 0.0099 - accuracy: 1.0000 - val_loss: 0.0073 - val_accuracy: 1.0000\n",
      "Epoch 37/50\n",
      "70/70 [==============================] - 0s 1ms/step - loss: 0.0094 - accuracy: 1.0000 - val_loss: 0.0070 - val_accuracy: 1.0000\n",
      "Epoch 38/50\n",
      "70/70 [==============================] - 0s 971us/step - loss: 0.0089 - accuracy: 1.0000 - val_loss: 0.0066 - val_accuracy: 1.0000\n",
      "Epoch 39/50\n",
      "70/70 [==============================] - 0s 1ms/step - loss: 0.0085 - accuracy: 1.0000 - val_loss: 0.0064 - val_accuracy: 1.0000\n",
      "Epoch 40/50\n",
      "70/70 [==============================] - 0s 971us/step - loss: 0.0080 - accuracy: 1.0000 - val_loss: 0.0060 - val_accuracy: 1.0000\n",
      "Epoch 41/50\n",
      "70/70 [==============================] - 0s 1ms/step - loss: 0.0076 - accuracy: 1.0000 - val_loss: 0.0058 - val_accuracy: 1.0000\n",
      "Epoch 42/50\n",
      "70/70 [==============================] - 0s 1ms/step - loss: 0.0072 - accuracy: 1.0000 - val_loss: 0.0055 - val_accuracy: 1.0000\n",
      "Epoch 43/50\n",
      "70/70 [==============================] - 0s 1ms/step - loss: 0.0069 - accuracy: 1.0000 - val_loss: 0.0053 - val_accuracy: 1.0000\n",
      "Epoch 44/50\n",
      "70/70 [==============================] - 0s 1ms/step - loss: 0.0064 - accuracy: 1.0000 - val_loss: 0.0050 - val_accuracy: 1.0000\n",
      "Epoch 45/50\n",
      "70/70 [==============================] - 0s 1ms/step - loss: 0.0062 - accuracy: 1.0000 - val_loss: 0.0049 - val_accuracy: 1.0000\n",
      "Epoch 46/50\n",
      "70/70 [==============================] - 0s 1ms/step - loss: 0.0058 - accuracy: 1.0000 - val_loss: 0.0044 - val_accuracy: 1.0000\n",
      "Epoch 47/50\n",
      "70/70 [==============================] - 0s 1ms/step - loss: 0.0055 - accuracy: 1.0000 - val_loss: 0.0043 - val_accuracy: 1.0000\n",
      "Epoch 48/50\n",
      "70/70 [==============================] - 0s 1ms/step - loss: 0.0052 - accuracy: 1.0000 - val_loss: 0.0042 - val_accuracy: 1.0000\n",
      "Epoch 49/50\n",
      "70/70 [==============================] - 0s 1ms/step - loss: 0.0050 - accuracy: 1.0000 - val_loss: 0.0040 - val_accuracy: 1.0000\n",
      "Epoch 50/50\n",
      "70/70 [==============================] - 0s 1ms/step - loss: 0.0047 - accuracy: 1.0000 - val_loss: 0.0039 - val_accuracy: 1.0000\n"
     ]
    }
   ],
   "source": [
    "#Fitting the model with the validation data of 20% for 200 epocs and batch size of 10\n",
    "history = model.fit(X_train, y_train, validation_split=0.2, epochs=50, batch_size=10, verbose=1)"
   ]
  },
  {
   "cell_type": "code",
   "execution_count": 11,
   "metadata": {},
   "outputs": [
    {
     "name": "stdout",
     "output_type": "stream",
     "text": [
      "7/7 [==============================] - 0s 1ms/step - loss: 0.0091 - accuracy: 0.9955\n"
     ]
    },
    {
     "data": {
      "text/plain": [
       "[0.009096630848944187, 0.9954545497894287]"
      ]
     },
     "execution_count": 11,
     "metadata": {},
     "output_type": "execute_result"
    }
   ],
   "source": [
    "model.evaluate(X_test,y_test)"
   ]
  },
  {
   "cell_type": "code",
   "execution_count": 12,
   "metadata": {},
   "outputs": [
    {
     "data": {
      "image/png": "[encoded data removed]",
      "text/plain": [
       "<Figure size 432x288 with 1 Axes>"
      ]
     },
     "metadata": {
      "needs_background": "light"
     },
     "output_type": "display_data"
    }
   ],
   "source": [
    "loss_train = history.history['accuracy']\n",
    "loss_val = history.history['val_accuracy']\n",
    "epochs = range(1,51)\n",
    "plt.plot(epochs, loss_train, 'g', label='Training accuracy')\n",
    "plt.plot(epochs, loss_val, 'b', label='validation accuracy')\n",
    "plt.title('Training and Validation accuracy')\n",
    "plt.xlabel('Epochs')\n",
    "plt.ylabel('Accuracy')\n",
    "plt.legend()\n",
    "plt.show()"
   ]
  },
  {
   "cell_type": "code",
   "execution_count": 13,
   "metadata": {},
   "outputs": [
    {
     "data": {
      "image/png": "[encoded data removed]",
      "text/plain": [
       "<Figure size 432x288 with 1 Axes>"
      ]
     },
     "metadata": {
      "needs_background": "light"
     },
     "output_type": "display_data"
    }
   ],
   "source": [
    "loss_train = history.history['loss']\n",
    "loss_val = history.history['val_loss']\n",
    "epochs = range(1,51)\n",
    "plt.plot(epochs, loss_train, 'g', label='Training loss')\n",
    "plt.plot(epochs, loss_val, 'b', label='validation loss')\n",
    "plt.title('Training and Validation loss')\n",
    "plt.xlabel('Epochs')\n",
    "plt.ylabel('Loss')\n",
    "plt.legend()\n",
    "plt.show()"
   ]
  }
 ],
 "metadata": {
  "kernelspec": {
   "display_name": "Python 3",
   "language": "python",
   "name": "python3"
  },
  "language_info": {
   "codemirror_mode": {
    "name": "ipython",
    "version": 3
   },
   "file_extension": ".py",
   "mimetype": "text/x-python",
   "name": "python",
   "nbconvert_exporter": "python",
   "pygments_lexer": "ipython3",
   "version": "3.8.5"
  }
 },
 "nbformat": 4,
 "nbformat_minor": 4
}
